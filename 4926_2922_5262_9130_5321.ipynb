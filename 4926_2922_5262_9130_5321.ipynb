{
 "cells": [
  {
   "cell_type": "code",
   "execution_count": 1,
   "id": "b0a25486",
   "metadata": {
    "id": "b0a25486"
   },
   "outputs": [],
   "source": [
    "# pip install opencv-python\n",
    "import warnings\n",
    "warnings.filterwarnings(\"ignore\")\n",
    "import pandas as pd\n",
    "import numpy as np\n",
    "from tqdm import tqdm,tqdm_notebook\n",
    "import pickle\n",
    "import os\n",
    "from sklearn.metrics import confusion_matrix, cohen_kappa_score,accuracy_score\n",
    "import seaborn as sns\n",
    "import cv2\n",
    "from collections import Counter\n",
    "from sklearn.manifold import TSNE\n",
    "import seaborn as sns\n",
    "import matplotlib.pyplot as plt\n",
    "from PIL import Image\n",
    "import keras\n",
    "from tensorflow.keras.applications.inception_v3 import InceptionV3\n",
    "import tensorflow as tf\n",
    "from keras import applications\n",
    "from tensorflow.keras.utils import img_to_array, array_to_img,load_img\n",
    "from keras.preprocessing.image import ImageDataGenerator\n",
    "from keras import optimizers,Model,Sequential\n",
    "from keras.layers import Input,GlobalAveragePooling2D,Dropout,Dense,Activation,Flatten\n",
    "from keras.callbacks import EarlyStopping,ReduceLROnPlateau\n",
    "from tensorflow.keras.models import load_model\n",
    "from keras.layers import BatchNormalization\n",
    "from keras.layers import concatenate\n",
    "from keras.layers import GlobalMaxPooling2D\n",
    "import tensorflow as kf"
   ]
  },
  {
   "cell_type": "code",
   "execution_count": 2,
   "id": "b01cc763",
   "metadata": {
    "id": "b01cc763"
   },
   "outputs": [],
   "source": [
    "os.chdir(\"C:/Users/akhil/Desktop/B. Disease Grading/B. Disease Grading/1. Original Images/a. Training Set\")"
   ]
  },
  {
   "cell_type": "code",
   "execution_count": 3,
   "id": "5ce01fe1",
   "metadata": {
    "id": "5ce01fe1",
    "outputId": "dd318a37-435a-471a-9697-cb687f83a288"
   },
   "outputs": [
    {
     "data": {
      "text/plain": [
       "['IDRiD_001.jpg',\n",
       " 'IDRiD_002.jpg',\n",
       " 'IDRiD_003.jpg',\n",
       " 'IDRiD_004.jpg',\n",
       " 'IDRiD_005.jpg',\n",
       " 'IDRiD_006.jpg',\n",
       " 'IDRiD_007.jpg',\n",
       " 'IDRiD_008.jpg',\n",
       " 'IDRiD_009.jpg',\n",
       " 'IDRiD_010.jpg',\n",
       " 'IDRiD_011.jpg',\n",
       " 'IDRiD_012.jpg',\n",
       " 'IDRiD_013.jpg',\n",
       " 'IDRiD_014.jpg',\n",
       " 'IDRiD_015.jpg',\n",
       " 'IDRiD_016.jpg',\n",
       " 'IDRiD_017.jpg',\n",
       " 'IDRiD_018.jpg',\n",
       " 'IDRiD_019.jpg',\n",
       " 'IDRiD_020.jpg',\n",
       " 'IDRiD_021.jpg',\n",
       " 'IDRiD_022.jpg',\n",
       " 'IDRiD_023.jpg',\n",
       " 'IDRiD_024.jpg',\n",
       " 'IDRiD_025.jpg',\n",
       " 'IDRiD_026.jpg',\n",
       " 'IDRiD_027.jpg',\n",
       " 'IDRiD_028.jpg',\n",
       " 'IDRiD_029.jpg',\n",
       " 'IDRiD_030.jpg',\n",
       " 'IDRiD_031.jpg',\n",
       " 'IDRiD_032.jpg',\n",
       " 'IDRiD_033.jpg',\n",
       " 'IDRiD_034.jpg',\n",
       " 'IDRiD_035.jpg',\n",
       " 'IDRiD_036.jpg',\n",
       " 'IDRiD_037.jpg',\n",
       " 'IDRiD_038.jpg',\n",
       " 'IDRiD_039.jpg',\n",
       " 'IDRiD_040.jpg',\n",
       " 'IDRiD_041.jpg',\n",
       " 'IDRiD_042.jpg',\n",
       " 'IDRiD_043.jpg',\n",
       " 'IDRiD_044.jpg',\n",
       " 'IDRiD_045.jpg',\n",
       " 'IDRiD_046.jpg',\n",
       " 'IDRiD_047.jpg',\n",
       " 'IDRiD_048.jpg',\n",
       " 'IDRiD_049.jpg',\n",
       " 'IDRiD_050.jpg',\n",
       " 'IDRiD_051.jpg',\n",
       " 'IDRiD_052.jpg',\n",
       " 'IDRiD_053.jpg',\n",
       " 'IDRiD_054.jpg',\n",
       " 'IDRiD_055.jpg',\n",
       " 'IDRiD_056.jpg',\n",
       " 'IDRiD_057.jpg',\n",
       " 'IDRiD_058.jpg',\n",
       " 'IDRiD_059.jpg',\n",
       " 'IDRiD_060.jpg',\n",
       " 'IDRiD_061.jpg',\n",
       " 'IDRiD_062.jpg',\n",
       " 'IDRiD_063.jpg',\n",
       " 'IDRiD_064.jpg',\n",
       " 'IDRiD_065.jpg',\n",
       " 'IDRiD_066.jpg',\n",
       " 'IDRiD_067.jpg',\n",
       " 'IDRiD_068.jpg',\n",
       " 'IDRiD_069.jpg',\n",
       " 'IDRiD_070.jpg',\n",
       " 'IDRiD_071.jpg',\n",
       " 'IDRiD_072.jpg',\n",
       " 'IDRiD_073.jpg',\n",
       " 'IDRiD_074.jpg',\n",
       " 'IDRiD_075.jpg',\n",
       " 'IDRiD_076.jpg',\n",
       " 'IDRiD_077.jpg',\n",
       " 'IDRiD_078.jpg',\n",
       " 'IDRiD_079.jpg',\n",
       " 'IDRiD_080.jpg',\n",
       " 'IDRiD_081.jpg',\n",
       " 'IDRiD_082.jpg',\n",
       " 'IDRiD_083.jpg',\n",
       " 'IDRiD_084.jpg',\n",
       " 'IDRiD_085.jpg',\n",
       " 'IDRiD_086.jpg',\n",
       " 'IDRiD_087.jpg',\n",
       " 'IDRiD_088.jpg',\n",
       " 'IDRiD_089.jpg',\n",
       " 'IDRiD_090.jpg',\n",
       " 'IDRiD_091.jpg',\n",
       " 'IDRiD_092.jpg',\n",
       " 'IDRiD_093.jpg',\n",
       " 'IDRiD_094.jpg',\n",
       " 'IDRiD_095.jpg',\n",
       " 'IDRiD_096.jpg',\n",
       " 'IDRiD_097.jpg',\n",
       " 'IDRiD_098.jpg',\n",
       " 'IDRiD_099.jpg',\n",
       " 'IDRiD_100.jpg',\n",
       " 'IDRiD_101.jpg',\n",
       " 'IDRiD_102.jpg',\n",
       " 'IDRiD_103.jpg',\n",
       " 'IDRiD_104.jpg',\n",
       " 'IDRiD_105.jpg',\n",
       " 'IDRiD_106.jpg',\n",
       " 'IDRiD_107.jpg',\n",
       " 'IDRiD_108.jpg',\n",
       " 'IDRiD_109.jpg',\n",
       " 'IDRiD_110.jpg',\n",
       " 'IDRiD_111.jpg',\n",
       " 'IDRiD_112.jpg',\n",
       " 'IDRiD_113.jpg',\n",
       " 'IDRiD_114.jpg',\n",
       " 'IDRiD_115.jpg',\n",
       " 'IDRiD_116.jpg',\n",
       " 'IDRiD_117.jpg',\n",
       " 'IDRiD_118.jpg',\n",
       " 'IDRiD_119.jpg',\n",
       " 'IDRiD_120.jpg',\n",
       " 'IDRiD_121.jpg',\n",
       " 'IDRiD_122.jpg',\n",
       " 'IDRiD_123.jpg',\n",
       " 'IDRiD_124.jpg',\n",
       " 'IDRiD_125.jpg',\n",
       " 'IDRiD_126.jpg',\n",
       " 'IDRiD_127.jpg',\n",
       " 'IDRiD_128.jpg',\n",
       " 'IDRiD_129.jpg',\n",
       " 'IDRiD_130.jpg',\n",
       " 'IDRiD_131.jpg',\n",
       " 'IDRiD_132.jpg',\n",
       " 'IDRiD_133.jpg',\n",
       " 'IDRiD_134.jpg',\n",
       " 'IDRiD_135.jpg',\n",
       " 'IDRiD_136.jpg',\n",
       " 'IDRiD_137.jpg',\n",
       " 'IDRiD_138.jpg',\n",
       " 'IDRiD_139.jpg',\n",
       " 'IDRiD_140.jpg',\n",
       " 'IDRiD_141.jpg',\n",
       " 'IDRiD_142.jpg',\n",
       " 'IDRiD_143.jpg',\n",
       " 'IDRiD_144.jpg',\n",
       " 'IDRiD_145.jpg',\n",
       " 'IDRiD_146.jpg',\n",
       " 'IDRiD_147.jpg',\n",
       " 'IDRiD_148.jpg',\n",
       " 'IDRiD_149.jpg',\n",
       " 'IDRiD_150.jpg',\n",
       " 'IDRiD_151.jpg',\n",
       " 'IDRiD_152.jpg',\n",
       " 'IDRiD_153.jpg',\n",
       " 'IDRiD_154.jpg',\n",
       " 'IDRiD_155.jpg',\n",
       " 'IDRiD_156.jpg',\n",
       " 'IDRiD_157.jpg',\n",
       " 'IDRiD_158.jpg',\n",
       " 'IDRiD_159.jpg',\n",
       " 'IDRiD_160.jpg',\n",
       " 'IDRiD_161.jpg',\n",
       " 'IDRiD_162.jpg',\n",
       " 'IDRiD_163.jpg',\n",
       " 'IDRiD_164.jpg',\n",
       " 'IDRiD_165.jpg',\n",
       " 'IDRiD_166.jpg',\n",
       " 'IDRiD_167.jpg',\n",
       " 'IDRiD_168.jpg',\n",
       " 'IDRiD_169.jpg',\n",
       " 'IDRiD_170.jpg',\n",
       " 'IDRiD_171.jpg',\n",
       " 'IDRiD_172.jpg',\n",
       " 'IDRiD_173.jpg',\n",
       " 'IDRiD_174.jpg',\n",
       " 'IDRiD_175.jpg',\n",
       " 'IDRiD_176.jpg',\n",
       " 'IDRiD_177.jpg',\n",
       " 'IDRiD_178.jpg',\n",
       " 'IDRiD_179.jpg',\n",
       " 'IDRiD_180.jpg',\n",
       " 'IDRiD_181.jpg',\n",
       " 'IDRiD_182.jpg',\n",
       " 'IDRiD_183.jpg',\n",
       " 'IDRiD_184.jpg',\n",
       " 'IDRiD_185.jpg',\n",
       " 'IDRiD_186.jpg',\n",
       " 'IDRiD_187.jpg',\n",
       " 'IDRiD_188.jpg',\n",
       " 'IDRiD_189.jpg',\n",
       " 'IDRiD_190.jpg',\n",
       " 'IDRiD_191.jpg',\n",
       " 'IDRiD_192.jpg',\n",
       " 'IDRiD_193.jpg',\n",
       " 'IDRiD_194.jpg',\n",
       " 'IDRiD_195.jpg',\n",
       " 'IDRiD_196.jpg',\n",
       " 'IDRiD_197.jpg',\n",
       " 'IDRiD_198.jpg',\n",
       " 'IDRiD_199.jpg',\n",
       " 'IDRiD_200.jpg',\n",
       " 'IDRiD_201.jpg',\n",
       " 'IDRiD_202.jpg',\n",
       " 'IDRiD_203.jpg',\n",
       " 'IDRiD_204.jpg',\n",
       " 'IDRiD_205.jpg',\n",
       " 'IDRiD_206.jpg',\n",
       " 'IDRiD_207.jpg',\n",
       " 'IDRiD_208.jpg',\n",
       " 'IDRiD_209.jpg',\n",
       " 'IDRiD_210.jpg',\n",
       " 'IDRiD_211.jpg',\n",
       " 'IDRiD_212.jpg',\n",
       " 'IDRiD_213.jpg',\n",
       " 'IDRiD_214.jpg',\n",
       " 'IDRiD_215.jpg',\n",
       " 'IDRiD_216.jpg',\n",
       " 'IDRiD_217.jpg',\n",
       " 'IDRiD_218.jpg',\n",
       " 'IDRiD_219.jpg',\n",
       " 'IDRiD_220.jpg',\n",
       " 'IDRiD_221.jpg',\n",
       " 'IDRiD_222.jpg',\n",
       " 'IDRiD_223.jpg',\n",
       " 'IDRiD_224.jpg',\n",
       " 'IDRiD_225.jpg',\n",
       " 'IDRiD_226.jpg',\n",
       " 'IDRiD_227.jpg',\n",
       " 'IDRiD_228.jpg',\n",
       " 'IDRiD_229.jpg',\n",
       " 'IDRiD_230.jpg',\n",
       " 'IDRiD_231.jpg',\n",
       " 'IDRiD_232.jpg',\n",
       " 'IDRiD_233.jpg',\n",
       " 'IDRiD_234.jpg',\n",
       " 'IDRiD_235.jpg',\n",
       " 'IDRiD_236.jpg',\n",
       " 'IDRiD_237.jpg',\n",
       " 'IDRiD_238.jpg',\n",
       " 'IDRiD_239.jpg',\n",
       " 'IDRiD_240.jpg',\n",
       " 'IDRiD_241.jpg',\n",
       " 'IDRiD_242.jpg',\n",
       " 'IDRiD_243.jpg',\n",
       " 'IDRiD_244.jpg',\n",
       " 'IDRiD_245.jpg',\n",
       " 'IDRiD_246.jpg',\n",
       " 'IDRiD_247.jpg',\n",
       " 'IDRiD_248.jpg',\n",
       " 'IDRiD_249.jpg',\n",
       " 'IDRiD_250.jpg',\n",
       " 'IDRiD_251.jpg',\n",
       " 'IDRiD_252.jpg',\n",
       " 'IDRiD_253.jpg',\n",
       " 'IDRiD_254.jpg',\n",
       " 'IDRiD_255.jpg',\n",
       " 'IDRiD_256.jpg',\n",
       " 'IDRiD_257.jpg',\n",
       " 'IDRiD_258.jpg',\n",
       " 'IDRiD_259.jpg',\n",
       " 'IDRiD_260.jpg',\n",
       " 'IDRiD_261.jpg',\n",
       " 'IDRiD_262.jpg',\n",
       " 'IDRiD_263.jpg',\n",
       " 'IDRiD_264.jpg',\n",
       " 'IDRiD_265.jpg',\n",
       " 'IDRiD_266.jpg',\n",
       " 'IDRiD_267.jpg',\n",
       " 'IDRiD_268.jpg',\n",
       " 'IDRiD_269.jpg',\n",
       " 'IDRiD_270.jpg',\n",
       " 'IDRiD_271.jpg',\n",
       " 'IDRiD_272.jpg',\n",
       " 'IDRiD_273.jpg',\n",
       " 'IDRiD_274.jpg',\n",
       " 'IDRiD_275.jpg',\n",
       " 'IDRiD_276.jpg',\n",
       " 'IDRiD_277.jpg',\n",
       " 'IDRiD_278.jpg',\n",
       " 'IDRiD_279.jpg',\n",
       " 'IDRiD_280.jpg',\n",
       " 'IDRiD_281.jpg',\n",
       " 'IDRiD_282.jpg',\n",
       " 'IDRiD_283.jpg',\n",
       " 'IDRiD_284.jpg',\n",
       " 'IDRiD_285.jpg',\n",
       " 'IDRiD_286.jpg',\n",
       " 'IDRiD_287.jpg',\n",
       " 'IDRiD_288.jpg',\n",
       " 'IDRiD_289.jpg',\n",
       " 'IDRiD_290.jpg',\n",
       " 'IDRiD_291.jpg',\n",
       " 'IDRiD_292.jpg',\n",
       " 'IDRiD_293.jpg',\n",
       " 'IDRiD_294.jpg',\n",
       " 'IDRiD_295.jpg',\n",
       " 'IDRiD_296.jpg',\n",
       " 'IDRiD_297.jpg',\n",
       " 'IDRiD_298.jpg',\n",
       " 'IDRiD_299.jpg',\n",
       " 'IDRiD_300.jpg',\n",
       " 'IDRiD_301.jpg',\n",
       " 'IDRiD_302.jpg',\n",
       " 'IDRiD_303.jpg',\n",
       " 'IDRiD_304.jpg',\n",
       " 'IDRiD_305.jpg',\n",
       " 'IDRiD_306.jpg',\n",
       " 'IDRiD_307.jpg',\n",
       " 'IDRiD_308.jpg',\n",
       " 'IDRiD_309.jpg',\n",
       " 'IDRiD_310.jpg',\n",
       " 'IDRiD_311.jpg',\n",
       " 'IDRiD_312.jpg',\n",
       " 'IDRiD_313.jpg',\n",
       " 'IDRiD_314.jpg',\n",
       " 'IDRiD_315.jpg',\n",
       " 'IDRiD_316.jpg',\n",
       " 'IDRiD_317.jpg',\n",
       " 'IDRiD_318.jpg',\n",
       " 'IDRiD_319.jpg',\n",
       " 'IDRiD_320.jpg',\n",
       " 'IDRiD_321.jpg',\n",
       " 'IDRiD_322.jpg',\n",
       " 'IDRiD_323.jpg',\n",
       " 'IDRiD_324.jpg',\n",
       " 'IDRiD_325.jpg',\n",
       " 'IDRiD_326.jpg',\n",
       " 'IDRiD_327.jpg',\n",
       " 'IDRiD_328.jpg',\n",
       " 'IDRiD_329.jpg',\n",
       " 'IDRiD_330.jpg',\n",
       " 'IDRiD_331.jpg',\n",
       " 'IDRiD_332.jpg',\n",
       " 'IDRiD_333.jpg',\n",
       " 'IDRiD_334.jpg',\n",
       " 'IDRiD_335.jpg',\n",
       " 'IDRiD_336.jpg',\n",
       " 'IDRiD_337.jpg',\n",
       " 'IDRiD_338.jpg',\n",
       " 'IDRiD_339.jpg',\n",
       " 'IDRiD_340.jpg',\n",
       " 'IDRiD_341.jpg',\n",
       " 'IDRiD_342.jpg',\n",
       " 'IDRiD_343.jpg',\n",
       " 'IDRiD_344.jpg',\n",
       " 'IDRiD_345.jpg',\n",
       " 'IDRiD_346.jpg',\n",
       " 'IDRiD_347.jpg',\n",
       " 'IDRiD_348.jpg',\n",
       " 'IDRiD_349.jpg',\n",
       " 'IDRiD_350.jpg',\n",
       " 'IDRiD_351.jpg',\n",
       " 'IDRiD_352.jpg',\n",
       " 'IDRiD_353.jpg',\n",
       " 'IDRiD_354.jpg',\n",
       " 'IDRiD_355.jpg',\n",
       " 'IDRiD_356.jpg',\n",
       " 'IDRiD_357.jpg',\n",
       " 'IDRiD_358.jpg',\n",
       " 'IDRiD_359.jpg',\n",
       " 'IDRiD_360.jpg',\n",
       " 'IDRiD_361.jpg',\n",
       " 'IDRiD_362.jpg',\n",
       " 'IDRiD_363.jpg',\n",
       " 'IDRiD_364.jpg',\n",
       " 'IDRiD_365.jpg',\n",
       " 'IDRiD_366.jpg',\n",
       " 'IDRiD_367.jpg',\n",
       " 'IDRiD_368.jpg',\n",
       " 'IDRiD_369.jpg',\n",
       " 'IDRiD_370.jpg',\n",
       " 'IDRiD_371.jpg',\n",
       " 'IDRiD_372.jpg',\n",
       " 'IDRiD_373.jpg',\n",
       " 'IDRiD_374.jpg',\n",
       " 'IDRiD_375.jpg',\n",
       " 'IDRiD_376.jpg',\n",
       " 'IDRiD_377.jpg',\n",
       " 'IDRiD_378.jpg',\n",
       " 'IDRiD_379.jpg',\n",
       " 'IDRiD_380.jpg',\n",
       " 'IDRiD_381.jpg',\n",
       " 'IDRiD_382.jpg',\n",
       " 'IDRiD_383.jpg',\n",
       " 'IDRiD_384.jpg',\n",
       " 'IDRiD_385.jpg',\n",
       " 'IDRiD_386.jpg',\n",
       " 'IDRiD_387.jpg',\n",
       " 'IDRiD_388.jpg',\n",
       " 'IDRiD_389.jpg',\n",
       " 'IDRiD_390.jpg',\n",
       " 'IDRiD_391.jpg',\n",
       " 'IDRiD_392.jpg',\n",
       " 'IDRiD_393.jpg',\n",
       " 'IDRiD_394.jpg',\n",
       " 'IDRiD_395.jpg',\n",
       " 'IDRiD_396.jpg',\n",
       " 'IDRiD_397.jpg',\n",
       " 'IDRiD_398.jpg',\n",
       " 'IDRiD_399.jpg',\n",
       " 'IDRiD_400.jpg',\n",
       " 'IDRiD_401.jpg',\n",
       " 'IDRiD_402.jpg',\n",
       " 'IDRiD_403.jpg',\n",
       " 'IDRiD_404.jpg',\n",
       " 'IDRiD_405.jpg',\n",
       " 'IDRiD_406.jpg',\n",
       " 'IDRiD_407.jpg',\n",
       " 'IDRiD_408.jpg',\n",
       " 'IDRiD_409.jpg',\n",
       " 'IDRiD_410.jpg',\n",
       " 'IDRiD_411.jpg',\n",
       " 'IDRiD_412.jpg',\n",
       " 'IDRiD_413.jpg']"
      ]
     },
     "execution_count": 3,
     "metadata": {},
     "output_type": "execute_result"
    }
   ],
   "source": [
    "l = os.listdir()\n",
    "l"
   ]
  },
  {
   "cell_type": "code",
   "execution_count": 4,
   "id": "31cd269d",
   "metadata": {
    "id": "31cd269d",
    "outputId": "2ec4918d-debf-49b7-b98f-950de7a21c62",
    "scrolled": true
   },
   "outputs": [
    {
     "name": "stdout",
     "output_type": "stream",
     "text": [
      "IDRiD_018.jpg\n",
      "IDRiD_019.jpg\n",
      "IDRiD_030.jpg\n",
      "IDRiD_031.jpg\n",
      "IDRiD_052.jpg\n",
      "IDRiD_124.jpg\n",
      "IDRiD_136.jpg\n",
      "IDRiD_137.jpg\n",
      "IDRiD_148.jpg\n",
      "IDRiD_149.jpg\n",
      "IDRiD_153.jpg\n",
      "IDRiD_160.jpg\n",
      "IDRiD_274.jpg\n",
      "IDRiD_278.jpg\n",
      "IDRiD_337.jpg\n"
     ]
    }
   ],
   "source": [
    "for i in l:\n",
    "    try:\n",
    "        img = cv2.imread(i)\n",
    "        image_bw = cv2.cvtColor(img, cv2.COLOR_BGR2GRAY)\n",
    "        clahe = cv2.createCLAHE(clipLimit = 5)\n",
    "        final_img = clahe.apply(image_bw) + 30\n",
    "        _, ordinary_img = cv2.threshold(image_bw, 155, 255, cv2.THRESH_BINARY)\n",
    "        contours, hierarchy = cv2.findContours(ordinary_img, cv2.RETR_EXTERNAL, cv2.CHAIN_APPROX_SIMPLE)\n",
    "        largest_contour = max(contours, key=cv2.contourArea)\n",
    "        M = cv2.moments(largest_contour)\n",
    "        x = int(M['m10'] / M['m00'])\n",
    "        y = int(M['m01'] / M['m00'])\n",
    "\n",
    "\n",
    "\n",
    "        if x < img.shape[1] / 2:\n",
    "            flip_code = 1  \n",
    "        else:\n",
    "            flip_code = 0  \n",
    "\n",
    "        if flip_code == 1:\n",
    "            img = cv2.flip(img, 1)\n",
    "            image_bw = cv2.cvtColor(img, cv2.COLOR_BGR2GRAY)\n",
    "            clahe = cv2.createCLAHE(clipLimit = 5)\n",
    "            final_img = clahe.apply(image_bw) + 30\n",
    "            _, ordinary_img = cv2.threshold(image_bw, 155, 255, cv2.THRESH_BINARY)\n",
    "            contours, hierarchy = cv2.findContours(ordinary_img, cv2.RETR_EXTERNAL, cv2.CHAIN_APPROX_SIMPLE)\n",
    "            largest_contour = max(contours, key=cv2.contourArea)\n",
    "            M = cv2.moments(largest_contour)\n",
    "            x = int(M['m10'] / M['m00'])\n",
    "            y = int(M['m01'] / M['m00'])\n",
    "\n",
    "        # Define the radius of the Field-1 circle in pixels\n",
    "        field1_radius = 500\n",
    "\n",
    "        mask = np.zeros(img.shape[:2], dtype=np.uint8)\n",
    "        cv2.circle(mask, (x-200,y) ,field1_radius, 255, -1)\n",
    "\n",
    "\n",
    "\n",
    "        masked_img = cv2.bitwise_and(img, img, mask=mask)\n",
    "        masked_img = cv2.resize(masked_img,(224,224))\n",
    "        cv2.imwrite(r'C:\\Users\\akhil\\Desktop\\DR\\training/'+i,masked_img)\n",
    "    except:\n",
    "        print(i)"
   ]
  },
  {
   "cell_type": "code",
   "execution_count": 5,
   "id": "536237e2",
   "metadata": {
    "id": "536237e2"
   },
   "outputs": [],
   "source": [
    "os.chdir('../')"
   ]
  },
  {
   "cell_type": "code",
   "execution_count": 6,
   "id": "5d44aeb0",
   "metadata": {
    "id": "5d44aeb0"
   },
   "outputs": [],
   "source": [
    "os.chdir('b. Testing Set')"
   ]
  },
  {
   "cell_type": "code",
   "execution_count": 7,
   "id": "034fe120",
   "metadata": {
    "id": "034fe120"
   },
   "outputs": [
    {
     "data": {
      "text/plain": [
       "['IDRiD_001.jpg',\n",
       " 'IDRiD_002.jpg',\n",
       " 'IDRiD_003.jpg',\n",
       " 'IDRiD_004.jpg',\n",
       " 'IDRiD_005.jpg',\n",
       " 'IDRiD_006.jpg',\n",
       " 'IDRiD_007.jpg',\n",
       " 'IDRiD_008.jpg',\n",
       " 'IDRiD_009.jpg',\n",
       " 'IDRiD_010.jpg',\n",
       " 'IDRiD_011.jpg',\n",
       " 'IDRiD_012.jpg',\n",
       " 'IDRiD_013.jpg',\n",
       " 'IDRiD_014.jpg',\n",
       " 'IDRiD_015.jpg',\n",
       " 'IDRiD_016.jpg',\n",
       " 'IDRiD_017.jpg',\n",
       " 'IDRiD_018.jpg',\n",
       " 'IDRiD_019.jpg',\n",
       " 'IDRiD_020.jpg',\n",
       " 'IDRiD_021.jpg',\n",
       " 'IDRiD_022.jpg',\n",
       " 'IDRiD_023.jpg',\n",
       " 'IDRiD_024.jpg',\n",
       " 'IDRiD_025.jpg',\n",
       " 'IDRiD_026.jpg',\n",
       " 'IDRiD_027.jpg',\n",
       " 'IDRiD_028.jpg',\n",
       " 'IDRiD_029.jpg',\n",
       " 'IDRiD_030.jpg',\n",
       " 'IDRiD_031.jpg',\n",
       " 'IDRiD_032.jpg',\n",
       " 'IDRiD_033.jpg',\n",
       " 'IDRiD_034.jpg',\n",
       " 'IDRiD_035.jpg',\n",
       " 'IDRiD_036.jpg',\n",
       " 'IDRiD_037.jpg',\n",
       " 'IDRiD_038.jpg',\n",
       " 'IDRiD_039.jpg',\n",
       " 'IDRiD_040.jpg',\n",
       " 'IDRiD_041.jpg',\n",
       " 'IDRiD_042.jpg',\n",
       " 'IDRiD_043.jpg',\n",
       " 'IDRiD_044.jpg',\n",
       " 'IDRiD_045.jpg',\n",
       " 'IDRiD_046.jpg',\n",
       " 'IDRiD_047.jpg',\n",
       " 'IDRiD_048.jpg',\n",
       " 'IDRiD_049.jpg',\n",
       " 'IDRiD_050.jpg',\n",
       " 'IDRiD_051.jpg',\n",
       " 'IDRiD_052.jpg',\n",
       " 'IDRiD_053.jpg',\n",
       " 'IDRiD_054.jpg',\n",
       " 'IDRiD_055.jpg',\n",
       " 'IDRiD_056.jpg',\n",
       " 'IDRiD_057.jpg',\n",
       " 'IDRiD_058.jpg',\n",
       " 'IDRiD_059.jpg',\n",
       " 'IDRiD_060.jpg',\n",
       " 'IDRiD_061.jpg',\n",
       " 'IDRiD_062.jpg',\n",
       " 'IDRiD_063.jpg',\n",
       " 'IDRiD_064.jpg',\n",
       " 'IDRiD_065.jpg',\n",
       " 'IDRiD_066.jpg',\n",
       " 'IDRiD_067.jpg',\n",
       " 'IDRiD_068.jpg',\n",
       " 'IDRiD_069.jpg',\n",
       " 'IDRiD_070.jpg',\n",
       " 'IDRiD_071.jpg',\n",
       " 'IDRiD_072.jpg',\n",
       " 'IDRiD_073.jpg',\n",
       " 'IDRiD_074.jpg',\n",
       " 'IDRiD_075.jpg',\n",
       " 'IDRiD_076.jpg',\n",
       " 'IDRiD_077.jpg',\n",
       " 'IDRiD_078.jpg',\n",
       " 'IDRiD_079.jpg',\n",
       " 'IDRiD_080.jpg',\n",
       " 'IDRiD_081.jpg',\n",
       " 'IDRiD_082.jpg',\n",
       " 'IDRiD_083.jpg',\n",
       " 'IDRiD_084.jpg',\n",
       " 'IDRiD_085.jpg',\n",
       " 'IDRiD_086.jpg',\n",
       " 'IDRiD_087.jpg',\n",
       " 'IDRiD_088.jpg',\n",
       " 'IDRiD_089.jpg',\n",
       " 'IDRiD_090.jpg',\n",
       " 'IDRiD_091.jpg',\n",
       " 'IDRiD_092.jpg',\n",
       " 'IDRiD_093.jpg',\n",
       " 'IDRiD_094.jpg',\n",
       " 'IDRiD_095.jpg',\n",
       " 'IDRiD_096.jpg',\n",
       " 'IDRiD_097.jpg',\n",
       " 'IDRiD_098.jpg',\n",
       " 'IDRiD_099.jpg',\n",
       " 'IDRiD_100.jpg',\n",
       " 'IDRiD_101.jpg',\n",
       " 'IDRiD_102.jpg',\n",
       " 'IDRiD_103.jpg']"
      ]
     },
     "execution_count": 7,
     "metadata": {},
     "output_type": "execute_result"
    }
   ],
   "source": [
    "p = os.listdir()\n",
    "p"
   ]
  },
  {
   "cell_type": "code",
   "execution_count": 8,
   "id": "c3c81349",
   "metadata": {
    "id": "c3c81349"
   },
   "outputs": [
    {
     "name": "stdout",
     "output_type": "stream",
     "text": [
      "IDRiD_001.jpg\n",
      "IDRiD_003.jpg\n",
      "IDRiD_024.jpg\n",
      "IDRiD_067.jpg\n"
     ]
    }
   ],
   "source": [
    "for i in p:\n",
    "    try:\n",
    "        img = cv2.imread(i)\n",
    "        image_bw = cv2.cvtColor(img, cv2.COLOR_BGR2GRAY)\n",
    "        clahe = cv2.createCLAHE(clipLimit = 5)\n",
    "        final_img = clahe.apply(image_bw) + 30\n",
    "        _, ordinary_img = cv2.threshold(image_bw, 155, 255, cv2.THRESH_BINARY)\n",
    "        contours, hierarchy = cv2.findContours(ordinary_img, cv2.RETR_EXTERNAL, cv2.CHAIN_APPROX_SIMPLE)\n",
    "        largest_contour = max(contours, key=cv2.contourArea)\n",
    "        M = cv2.moments(largest_contour)\n",
    "        x = int(M['m10'] / M['m00'])\n",
    "        y = int(M['m01'] / M['m00'])\n",
    "\n",
    "\n",
    "\n",
    "        if x < img.shape[1] / 2:\n",
    "            flip_code = 1  \n",
    "        else:\n",
    "            flip_code = 0  \n",
    "\n",
    "        if flip_code == 1:\n",
    "            img = cv2.flip(img, 1)\n",
    "            image_bw = cv2.cvtColor(img, cv2.COLOR_BGR2GRAY)\n",
    "            clahe = cv2.createCLAHE(clipLimit = 5)\n",
    "            final_img = clahe.apply(image_bw) + 30\n",
    "            _, ordinary_img = cv2.threshold(image_bw, 155, 255, cv2.THRESH_BINARY)\n",
    "            contours, hierarchy = cv2.findContours(ordinary_img, cv2.RETR_EXTERNAL, cv2.CHAIN_APPROX_SIMPLE)\n",
    "            largest_contour = max(contours, key=cv2.contourArea)\n",
    "            M = cv2.moments(largest_contour)\n",
    "            x = int(M['m10'] / M['m00'])\n",
    "            y = int(M['m01'] / M['m00'])\n",
    "\n",
    "        # Define the radius of the Field-1 circle in pixels\n",
    "        field1_radius = 500\n",
    "\n",
    "        mask = np.zeros(img.shape[:2], dtype=np.uint8)\n",
    "        cv2.circle(mask, (x-200,y) ,field1_radius, 255, -1)\n",
    "\n",
    "        masked_img = cv2.bitwise_and(img, img, mask=mask)\n",
    "        masked_img = cv2.resize(masked_img,(224,224))\n",
    "        cv2.imwrite(r'C:\\Users\\akhil\\Desktop\\DR\\testing/'+i,masked_img)\n",
    "    except:\n",
    "        print(i)"
   ]
  },
  {
   "cell_type": "code",
   "execution_count": 9,
   "id": "64b5fdc2",
   "metadata": {
    "id": "64b5fdc2"
   },
   "outputs": [],
   "source": [
    "os.chdir('C:/Users/akhil/Desktop/DR/training')"
   ]
  },
  {
   "cell_type": "code",
   "execution_count": 10,
   "id": "15432d5b",
   "metadata": {
    "id": "15432d5b"
   },
   "outputs": [
    {
     "data": {
      "text/plain": [
       "['IDRiD_001.jpg',\n",
       " 'IDRiD_002.jpg',\n",
       " 'IDRiD_003.jpg',\n",
       " 'IDRiD_004.jpg',\n",
       " 'IDRiD_005.jpg',\n",
       " 'IDRiD_006.jpg',\n",
       " 'IDRiD_007.jpg',\n",
       " 'IDRiD_008.jpg',\n",
       " 'IDRiD_009.jpg',\n",
       " 'IDRiD_010.jpg',\n",
       " 'IDRiD_011.jpg',\n",
       " 'IDRiD_012.jpg',\n",
       " 'IDRiD_013.jpg',\n",
       " 'IDRiD_014.jpg',\n",
       " 'IDRiD_015.jpg',\n",
       " 'IDRiD_016.jpg',\n",
       " 'IDRiD_017.jpg',\n",
       " 'IDRiD_020.jpg',\n",
       " 'IDRiD_021.jpg',\n",
       " 'IDRiD_022.jpg',\n",
       " 'IDRiD_023.jpg',\n",
       " 'IDRiD_024.jpg',\n",
       " 'IDRiD_025.jpg',\n",
       " 'IDRiD_026.jpg',\n",
       " 'IDRiD_027.jpg',\n",
       " 'IDRiD_028.jpg',\n",
       " 'IDRiD_029.jpg',\n",
       " 'IDRiD_032.jpg',\n",
       " 'IDRiD_033.jpg',\n",
       " 'IDRiD_034.jpg',\n",
       " 'IDRiD_035.jpg',\n",
       " 'IDRiD_036.jpg',\n",
       " 'IDRiD_037.jpg',\n",
       " 'IDRiD_038.jpg',\n",
       " 'IDRiD_039.jpg',\n",
       " 'IDRiD_040.jpg',\n",
       " 'IDRiD_041.jpg',\n",
       " 'IDRiD_042.jpg',\n",
       " 'IDRiD_043.jpg',\n",
       " 'IDRiD_044.jpg',\n",
       " 'IDRiD_045.jpg',\n",
       " 'IDRiD_046.jpg',\n",
       " 'IDRiD_047.jpg',\n",
       " 'IDRiD_048.jpg',\n",
       " 'IDRiD_049.jpg',\n",
       " 'IDRiD_050.jpg',\n",
       " 'IDRiD_051.jpg',\n",
       " 'IDRiD_053.jpg',\n",
       " 'IDRiD_054.jpg',\n",
       " 'IDRiD_055.jpg',\n",
       " 'IDRiD_056.jpg',\n",
       " 'IDRiD_057.jpg',\n",
       " 'IDRiD_058.jpg',\n",
       " 'IDRiD_059.jpg',\n",
       " 'IDRiD_060.jpg',\n",
       " 'IDRiD_061.jpg',\n",
       " 'IDRiD_062.jpg',\n",
       " 'IDRiD_063.jpg',\n",
       " 'IDRiD_064.jpg',\n",
       " 'IDRiD_065.jpg',\n",
       " 'IDRiD_066.jpg',\n",
       " 'IDRiD_067.jpg',\n",
       " 'IDRiD_068.jpg',\n",
       " 'IDRiD_069.jpg',\n",
       " 'IDRiD_070.jpg',\n",
       " 'IDRiD_071.jpg',\n",
       " 'IDRiD_072.jpg',\n",
       " 'IDRiD_073.jpg',\n",
       " 'IDRiD_074.jpg',\n",
       " 'IDRiD_075.jpg',\n",
       " 'IDRiD_076.jpg',\n",
       " 'IDRiD_077.jpg',\n",
       " 'IDRiD_078.jpg',\n",
       " 'IDRiD_079.jpg',\n",
       " 'IDRiD_080.jpg',\n",
       " 'IDRiD_081.jpg',\n",
       " 'IDRiD_082.jpg',\n",
       " 'IDRiD_083.jpg',\n",
       " 'IDRiD_084.jpg',\n",
       " 'IDRiD_085.jpg',\n",
       " 'IDRiD_086.jpg',\n",
       " 'IDRiD_087.jpg',\n",
       " 'IDRiD_088.jpg',\n",
       " 'IDRiD_089.jpg',\n",
       " 'IDRiD_090.jpg',\n",
       " 'IDRiD_091.jpg',\n",
       " 'IDRiD_092.jpg',\n",
       " 'IDRiD_093.jpg',\n",
       " 'IDRiD_094.jpg',\n",
       " 'IDRiD_095.jpg',\n",
       " 'IDRiD_096.jpg',\n",
       " 'IDRiD_097.jpg',\n",
       " 'IDRiD_098.jpg',\n",
       " 'IDRiD_099.jpg',\n",
       " 'IDRiD_100.jpg',\n",
       " 'IDRiD_101.jpg',\n",
       " 'IDRiD_102.jpg',\n",
       " 'IDRiD_103.jpg',\n",
       " 'IDRiD_104.jpg',\n",
       " 'IDRiD_105.jpg',\n",
       " 'IDRiD_106.jpg',\n",
       " 'IDRiD_107.jpg',\n",
       " 'IDRiD_108.jpg',\n",
       " 'IDRiD_109.jpg',\n",
       " 'IDRiD_110.jpg',\n",
       " 'IDRiD_111.jpg',\n",
       " 'IDRiD_112.jpg',\n",
       " 'IDRiD_113.jpg',\n",
       " 'IDRiD_114.jpg',\n",
       " 'IDRiD_115.jpg',\n",
       " 'IDRiD_116.jpg',\n",
       " 'IDRiD_117.jpg',\n",
       " 'IDRiD_118.jpg',\n",
       " 'IDRiD_119.jpg',\n",
       " 'IDRiD_120.jpg',\n",
       " 'IDRiD_121.jpg',\n",
       " 'IDRiD_122.jpg',\n",
       " 'IDRiD_123.jpg',\n",
       " 'IDRiD_125.jpg',\n",
       " 'IDRiD_126.jpg',\n",
       " 'IDRiD_127.jpg',\n",
       " 'IDRiD_128.jpg',\n",
       " 'IDRiD_129.jpg',\n",
       " 'IDRiD_130.jpg',\n",
       " 'IDRiD_131.jpg',\n",
       " 'IDRiD_132.jpg',\n",
       " 'IDRiD_133.jpg',\n",
       " 'IDRiD_134.jpg',\n",
       " 'IDRiD_135.jpg',\n",
       " 'IDRiD_138.jpg',\n",
       " 'IDRiD_139.jpg',\n",
       " 'IDRiD_140.jpg',\n",
       " 'IDRiD_141.jpg',\n",
       " 'IDRiD_142.jpg',\n",
       " 'IDRiD_143.jpg',\n",
       " 'IDRiD_144.jpg',\n",
       " 'IDRiD_145.jpg',\n",
       " 'IDRiD_146.jpg',\n",
       " 'IDRiD_147.jpg',\n",
       " 'IDRiD_150.jpg',\n",
       " 'IDRiD_151.jpg',\n",
       " 'IDRiD_152.jpg',\n",
       " 'IDRiD_154.jpg',\n",
       " 'IDRiD_155.jpg',\n",
       " 'IDRiD_156.jpg',\n",
       " 'IDRiD_157.jpg',\n",
       " 'IDRiD_158.jpg',\n",
       " 'IDRiD_159.jpg',\n",
       " 'IDRiD_161.jpg',\n",
       " 'IDRiD_162.jpg',\n",
       " 'IDRiD_163.jpg',\n",
       " 'IDRiD_164.jpg',\n",
       " 'IDRiD_165.jpg',\n",
       " 'IDRiD_166.jpg',\n",
       " 'IDRiD_167.jpg',\n",
       " 'IDRiD_168.jpg',\n",
       " 'IDRiD_169.jpg',\n",
       " 'IDRiD_170.jpg',\n",
       " 'IDRiD_171.jpg',\n",
       " 'IDRiD_172.jpg',\n",
       " 'IDRiD_173.jpg',\n",
       " 'IDRiD_174.jpg',\n",
       " 'IDRiD_175.jpg',\n",
       " 'IDRiD_176.jpg',\n",
       " 'IDRiD_177.jpg',\n",
       " 'IDRiD_178.jpg',\n",
       " 'IDRiD_179.jpg',\n",
       " 'IDRiD_180.jpg',\n",
       " 'IDRiD_181.jpg',\n",
       " 'IDRiD_182.jpg',\n",
       " 'IDRiD_183.jpg',\n",
       " 'IDRiD_184.jpg',\n",
       " 'IDRiD_185.jpg',\n",
       " 'IDRiD_186.jpg',\n",
       " 'IDRiD_187.jpg',\n",
       " 'IDRiD_188.jpg',\n",
       " 'IDRiD_189.jpg',\n",
       " 'IDRiD_190.jpg',\n",
       " 'IDRiD_191.jpg',\n",
       " 'IDRiD_192.jpg',\n",
       " 'IDRiD_193.jpg',\n",
       " 'IDRiD_194.jpg',\n",
       " 'IDRiD_195.jpg',\n",
       " 'IDRiD_196.jpg',\n",
       " 'IDRiD_197.jpg',\n",
       " 'IDRiD_198.jpg',\n",
       " 'IDRiD_199.jpg',\n",
       " 'IDRiD_200.jpg',\n",
       " 'IDRiD_201.jpg',\n",
       " 'IDRiD_202.jpg',\n",
       " 'IDRiD_203.jpg',\n",
       " 'IDRiD_204.jpg',\n",
       " 'IDRiD_205.jpg',\n",
       " 'IDRiD_206.jpg',\n",
       " 'IDRiD_207.jpg',\n",
       " 'IDRiD_208.jpg',\n",
       " 'IDRiD_209.jpg',\n",
       " 'IDRiD_210.jpg',\n",
       " 'IDRiD_211.jpg',\n",
       " 'IDRiD_212.jpg',\n",
       " 'IDRiD_213.jpg',\n",
       " 'IDRiD_214.jpg',\n",
       " 'IDRiD_215.jpg',\n",
       " 'IDRiD_216.jpg',\n",
       " 'IDRiD_217.jpg',\n",
       " 'IDRiD_218.jpg',\n",
       " 'IDRiD_219.jpg',\n",
       " 'IDRiD_220.jpg',\n",
       " 'IDRiD_221.jpg',\n",
       " 'IDRiD_222.jpg',\n",
       " 'IDRiD_223.jpg',\n",
       " 'IDRiD_224.jpg',\n",
       " 'IDRiD_225.jpg',\n",
       " 'IDRiD_226.jpg',\n",
       " 'IDRiD_227.jpg',\n",
       " 'IDRiD_228.jpg',\n",
       " 'IDRiD_229.jpg',\n",
       " 'IDRiD_230.jpg',\n",
       " 'IDRiD_231.jpg',\n",
       " 'IDRiD_232.jpg',\n",
       " 'IDRiD_233.jpg',\n",
       " 'IDRiD_234.jpg',\n",
       " 'IDRiD_235.jpg',\n",
       " 'IDRiD_236.jpg',\n",
       " 'IDRiD_237.jpg',\n",
       " 'IDRiD_238.jpg',\n",
       " 'IDRiD_239.jpg',\n",
       " 'IDRiD_240.jpg',\n",
       " 'IDRiD_241.jpg',\n",
       " 'IDRiD_242.jpg',\n",
       " 'IDRiD_243.jpg',\n",
       " 'IDRiD_244.jpg',\n",
       " 'IDRiD_245.jpg',\n",
       " 'IDRiD_246.jpg',\n",
       " 'IDRiD_247.jpg',\n",
       " 'IDRiD_248.jpg',\n",
       " 'IDRiD_249.jpg',\n",
       " 'IDRiD_250.jpg',\n",
       " 'IDRiD_251.jpg',\n",
       " 'IDRiD_252.jpg',\n",
       " 'IDRiD_253.jpg',\n",
       " 'IDRiD_254.jpg',\n",
       " 'IDRiD_255.jpg',\n",
       " 'IDRiD_256.jpg',\n",
       " 'IDRiD_257.jpg',\n",
       " 'IDRiD_258.jpg',\n",
       " 'IDRiD_259.jpg',\n",
       " 'IDRiD_260.jpg',\n",
       " 'IDRiD_261.jpg',\n",
       " 'IDRiD_262.jpg',\n",
       " 'IDRiD_263.jpg',\n",
       " 'IDRiD_264.jpg',\n",
       " 'IDRiD_265.jpg',\n",
       " 'IDRiD_266.jpg',\n",
       " 'IDRiD_267.jpg',\n",
       " 'IDRiD_268.jpg',\n",
       " 'IDRiD_269.jpg',\n",
       " 'IDRiD_270.jpg',\n",
       " 'IDRiD_271.jpg',\n",
       " 'IDRiD_272.jpg',\n",
       " 'IDRiD_273.jpg',\n",
       " 'IDRiD_275.jpg',\n",
       " 'IDRiD_276.jpg',\n",
       " 'IDRiD_277.jpg',\n",
       " 'IDRiD_279.jpg',\n",
       " 'IDRiD_280.jpg',\n",
       " 'IDRiD_281.jpg',\n",
       " 'IDRiD_282.jpg',\n",
       " 'IDRiD_283.jpg',\n",
       " 'IDRiD_284.jpg',\n",
       " 'IDRiD_285.jpg',\n",
       " 'IDRiD_286.jpg',\n",
       " 'IDRiD_287.jpg',\n",
       " 'IDRiD_288.jpg',\n",
       " 'IDRiD_289.jpg',\n",
       " 'IDRiD_290.jpg',\n",
       " 'IDRiD_291.jpg',\n",
       " 'IDRiD_292.jpg',\n",
       " 'IDRiD_293.jpg',\n",
       " 'IDRiD_294.jpg',\n",
       " 'IDRiD_295.jpg',\n",
       " 'IDRiD_296.jpg',\n",
       " 'IDRiD_297.jpg',\n",
       " 'IDRiD_298.jpg',\n",
       " 'IDRiD_299.jpg',\n",
       " 'IDRiD_300.jpg',\n",
       " 'IDRiD_301.jpg',\n",
       " 'IDRiD_302.jpg',\n",
       " 'IDRiD_303.jpg',\n",
       " 'IDRiD_304.jpg',\n",
       " 'IDRiD_305.jpg',\n",
       " 'IDRiD_306.jpg',\n",
       " 'IDRiD_307.jpg',\n",
       " 'IDRiD_308.jpg',\n",
       " 'IDRiD_309.jpg',\n",
       " 'IDRiD_310.jpg',\n",
       " 'IDRiD_311.jpg',\n",
       " 'IDRiD_312.jpg',\n",
       " 'IDRiD_313.jpg',\n",
       " 'IDRiD_314.jpg',\n",
       " 'IDRiD_315.jpg',\n",
       " 'IDRiD_316.jpg',\n",
       " 'IDRiD_317.jpg',\n",
       " 'IDRiD_318.jpg',\n",
       " 'IDRiD_319.jpg',\n",
       " 'IDRiD_320.jpg',\n",
       " 'IDRiD_321.jpg',\n",
       " 'IDRiD_322.jpg',\n",
       " 'IDRiD_323.jpg',\n",
       " 'IDRiD_324.jpg',\n",
       " 'IDRiD_325.jpg',\n",
       " 'IDRiD_326.jpg',\n",
       " 'IDRiD_327.jpg',\n",
       " 'IDRiD_328.jpg',\n",
       " 'IDRiD_329.jpg',\n",
       " 'IDRiD_330.jpg',\n",
       " 'IDRiD_331.jpg',\n",
       " 'IDRiD_332.jpg',\n",
       " 'IDRiD_333.jpg',\n",
       " 'IDRiD_334.jpg',\n",
       " 'IDRiD_335.jpg',\n",
       " 'IDRiD_336.jpg',\n",
       " 'IDRiD_338.jpg',\n",
       " 'IDRiD_339.jpg',\n",
       " 'IDRiD_340.jpg',\n",
       " 'IDRiD_341.jpg',\n",
       " 'IDRiD_342.jpg',\n",
       " 'IDRiD_343.jpg',\n",
       " 'IDRiD_344.jpg',\n",
       " 'IDRiD_345.jpg',\n",
       " 'IDRiD_346.jpg',\n",
       " 'IDRiD_347.jpg',\n",
       " 'IDRiD_348.jpg',\n",
       " 'IDRiD_349.jpg',\n",
       " 'IDRiD_350.jpg',\n",
       " 'IDRiD_351.jpg',\n",
       " 'IDRiD_352.jpg',\n",
       " 'IDRiD_353.jpg',\n",
       " 'IDRiD_354.jpg',\n",
       " 'IDRiD_355.jpg',\n",
       " 'IDRiD_356.jpg',\n",
       " 'IDRiD_357.jpg',\n",
       " 'IDRiD_358.jpg',\n",
       " 'IDRiD_359.jpg',\n",
       " 'IDRiD_360.jpg',\n",
       " 'IDRiD_361.jpg',\n",
       " 'IDRiD_362.jpg',\n",
       " 'IDRiD_363.jpg',\n",
       " 'IDRiD_364.jpg',\n",
       " 'IDRiD_365.jpg',\n",
       " 'IDRiD_366.jpg',\n",
       " 'IDRiD_367.jpg',\n",
       " 'IDRiD_368.jpg',\n",
       " 'IDRiD_369.jpg',\n",
       " 'IDRiD_370.jpg',\n",
       " 'IDRiD_371.jpg',\n",
       " 'IDRiD_372.jpg',\n",
       " 'IDRiD_373.jpg',\n",
       " 'IDRiD_374.jpg',\n",
       " 'IDRiD_375.jpg',\n",
       " 'IDRiD_376.jpg',\n",
       " 'IDRiD_377.jpg',\n",
       " 'IDRiD_378.jpg',\n",
       " 'IDRiD_379.jpg',\n",
       " 'IDRiD_380.jpg',\n",
       " 'IDRiD_381.jpg',\n",
       " 'IDRiD_382.jpg',\n",
       " 'IDRiD_383.jpg',\n",
       " 'IDRiD_384.jpg',\n",
       " 'IDRiD_385.jpg',\n",
       " 'IDRiD_386.jpg',\n",
       " 'IDRiD_387.jpg',\n",
       " 'IDRiD_388.jpg',\n",
       " 'IDRiD_389.jpg',\n",
       " 'IDRiD_390.jpg',\n",
       " 'IDRiD_391.jpg',\n",
       " 'IDRiD_392.jpg',\n",
       " 'IDRiD_393.jpg',\n",
       " 'IDRiD_394.jpg',\n",
       " 'IDRiD_395.jpg',\n",
       " 'IDRiD_396.jpg',\n",
       " 'IDRiD_397.jpg',\n",
       " 'IDRiD_398.jpg',\n",
       " 'IDRiD_399.jpg',\n",
       " 'IDRiD_400.jpg',\n",
       " 'IDRiD_401.jpg',\n",
       " 'IDRiD_402.jpg',\n",
       " 'IDRiD_403.jpg',\n",
       " 'IDRiD_404.jpg',\n",
       " 'IDRiD_405.jpg',\n",
       " 'IDRiD_406.jpg',\n",
       " 'IDRiD_407.jpg',\n",
       " 'IDRiD_408.jpg',\n",
       " 'IDRiD_409.jpg',\n",
       " 'IDRiD_410.jpg',\n",
       " 'IDRiD_411.jpg',\n",
       " 'IDRiD_412.jpg',\n",
       " 'IDRiD_413.jpg']"
      ]
     },
     "execution_count": 10,
     "metadata": {},
     "output_type": "execute_result"
    }
   ],
   "source": [
    "l = os.listdir()\n",
    "l"
   ]
  },
  {
   "cell_type": "code",
   "execution_count": 11,
   "id": "83c33a52",
   "metadata": {
    "id": "83c33a52"
   },
   "outputs": [],
   "source": [
    "df = pd.read_csv(\"C:/Users/akhil/Desktop/B. Disease Grading/B. Disease Grading/2. Groundtruths/a. IDRiD_Disease Grading_Training Labels.csv\")\n",
    "pf = pd.read_csv(\"C:/Users/akhil/Desktop/B. Disease Grading/B. Disease Grading/2. Groundtruths/b. IDRiD_Disease Grading_Testing Labels.csv\")"
   ]
  },
  {
   "cell_type": "code",
   "execution_count": 12,
   "id": "bed4d630",
   "metadata": {
    "id": "bed4d630"
   },
   "outputs": [],
   "source": [
    "train = Counter()\n",
    "test = Counter()"
   ]
  },
  {
   "cell_type": "code",
   "execution_count": 13,
   "id": "ac34d318",
   "metadata": {
    "id": "ac34d318"
   },
   "outputs": [],
   "source": [
    "for col, row in df.iterrows():\n",
    "    g = row[0]\n",
    "    h = row[1]\n",
    "    if h > 0:\n",
    "        h = 1\n",
    "    train[g] = h"
   ]
  },
  {
   "cell_type": "code",
   "execution_count": 14,
   "id": "0d28f3d1",
   "metadata": {
    "id": "0d28f3d1"
   },
   "outputs": [],
   "source": [
    "for col, row in pf.iterrows():\n",
    "    g = row[0]\n",
    "    h = row[1]\n",
    "    if h > 0:\n",
    "        h = 1\n",
    "    test[g] = h"
   ]
  },
  {
   "cell_type": "code",
   "execution_count": 15,
   "id": "c11d2952",
   "metadata": {
    "id": "c11d2952"
   },
   "outputs": [
    {
     "name": "stdout",
     "output_type": "stream",
     "text": [
      "413\n",
      "103\n"
     ]
    }
   ],
   "source": [
    "print(len(train))\n",
    "print(len(test))"
   ]
  },
  {
   "cell_type": "code",
   "execution_count": 16,
   "id": "2e4c65a8",
   "metadata": {
    "id": "2e4c65a8"
   },
   "outputs": [],
   "source": [
    "t_df = pd.DataFrame(columns = ['path','DR'])\n"
   ]
  },
  {
   "cell_type": "code",
   "execution_count": 17,
   "id": "740986ac",
   "metadata": {
    "id": "740986ac"
   },
   "outputs": [],
   "source": [
    "for i in l:\n",
    "    i= i.split(\".\")[0]\n",
    "    dr = train[i]\n",
    "    t_df.loc[len(t_df.index)] = [i, dr]"
   ]
  },
  {
   "cell_type": "code",
   "execution_count": 18,
   "id": "a6a60fec",
   "metadata": {
    "id": "a6a60fec"
   },
   "outputs": [
    {
     "data": {
      "text/plain": [
       "'IDRiD_001.jpg'"
      ]
     },
     "execution_count": 18,
     "metadata": {},
     "output_type": "execute_result"
    }
   ],
   "source": [
    "l[0]"
   ]
  },
  {
   "cell_type": "code",
   "execution_count": 19,
   "id": "aad65126",
   "metadata": {
    "id": "aad65126"
   },
   "outputs": [
    {
     "data": {
      "text/html": [
       "<div>\n",
       "<style scoped>\n",
       "    .dataframe tbody tr th:only-of-type {\n",
       "        vertical-align: middle;\n",
       "    }\n",
       "\n",
       "    .dataframe tbody tr th {\n",
       "        vertical-align: top;\n",
       "    }\n",
       "\n",
       "    .dataframe thead th {\n",
       "        text-align: right;\n",
       "    }\n",
       "</style>\n",
       "<table border=\"1\" class=\"dataframe\">\n",
       "  <thead>\n",
       "    <tr style=\"text-align: right;\">\n",
       "      <th></th>\n",
       "      <th>path</th>\n",
       "      <th>DR</th>\n",
       "    </tr>\n",
       "  </thead>\n",
       "  <tbody>\n",
       "    <tr>\n",
       "      <th>0</th>\n",
       "      <td>IDRiD_001</td>\n",
       "      <td>1</td>\n",
       "    </tr>\n",
       "    <tr>\n",
       "      <th>1</th>\n",
       "      <td>IDRiD_002</td>\n",
       "      <td>1</td>\n",
       "    </tr>\n",
       "    <tr>\n",
       "      <th>2</th>\n",
       "      <td>IDRiD_003</td>\n",
       "      <td>1</td>\n",
       "    </tr>\n",
       "    <tr>\n",
       "      <th>3</th>\n",
       "      <td>IDRiD_004</td>\n",
       "      <td>1</td>\n",
       "    </tr>\n",
       "    <tr>\n",
       "      <th>4</th>\n",
       "      <td>IDRiD_005</td>\n",
       "      <td>1</td>\n",
       "    </tr>\n",
       "    <tr>\n",
       "      <th>...</th>\n",
       "      <td>...</td>\n",
       "      <td>...</td>\n",
       "    </tr>\n",
       "    <tr>\n",
       "      <th>393</th>\n",
       "      <td>IDRiD_409</td>\n",
       "      <td>1</td>\n",
       "    </tr>\n",
       "    <tr>\n",
       "      <th>394</th>\n",
       "      <td>IDRiD_410</td>\n",
       "      <td>1</td>\n",
       "    </tr>\n",
       "    <tr>\n",
       "      <th>395</th>\n",
       "      <td>IDRiD_411</td>\n",
       "      <td>1</td>\n",
       "    </tr>\n",
       "    <tr>\n",
       "      <th>396</th>\n",
       "      <td>IDRiD_412</td>\n",
       "      <td>1</td>\n",
       "    </tr>\n",
       "    <tr>\n",
       "      <th>397</th>\n",
       "      <td>IDRiD_413</td>\n",
       "      <td>1</td>\n",
       "    </tr>\n",
       "  </tbody>\n",
       "</table>\n",
       "<p>398 rows × 2 columns</p>\n",
       "</div>"
      ],
      "text/plain": [
       "          path  DR\n",
       "0    IDRiD_001   1\n",
       "1    IDRiD_002   1\n",
       "2    IDRiD_003   1\n",
       "3    IDRiD_004   1\n",
       "4    IDRiD_005   1\n",
       "..         ...  ..\n",
       "393  IDRiD_409   1\n",
       "394  IDRiD_410   1\n",
       "395  IDRiD_411   1\n",
       "396  IDRiD_412   1\n",
       "397  IDRiD_413   1\n",
       "\n",
       "[398 rows x 2 columns]"
      ]
     },
     "execution_count": 19,
     "metadata": {},
     "output_type": "execute_result"
    }
   ],
   "source": [
    "t_df"
   ]
  },
  {
   "cell_type": "code",
   "execution_count": 20,
   "id": "3fb26e79",
   "metadata": {
    "id": "3fb26e79"
   },
   "outputs": [],
   "source": [
    "os.chdir('..//')"
   ]
  },
  {
   "cell_type": "code",
   "execution_count": 21,
   "id": "2f0e8e67",
   "metadata": {
    "id": "2f0e8e67"
   },
   "outputs": [],
   "source": [
    "os.chdir('testing')"
   ]
  },
  {
   "cell_type": "code",
   "execution_count": 22,
   "id": "ed5031e1",
   "metadata": {
    "id": "ed5031e1"
   },
   "outputs": [],
   "source": [
    "p= os.listdir()\n",
    "t_pf = pd.DataFrame(columns = ['path','DR'])"
   ]
  },
  {
   "cell_type": "code",
   "execution_count": 23,
   "id": "1debeaef",
   "metadata": {
    "id": "1debeaef"
   },
   "outputs": [],
   "source": [
    "for i in p:\n",
    "    i= i.split(\".\")[0]\n",
    "    dr = test[i]\n",
    "    t_pf.loc[len(t_pf.index)] = [i, dr]"
   ]
  },
  {
   "cell_type": "code",
   "execution_count": 24,
   "id": "668de696",
   "metadata": {
    "id": "668de696"
   },
   "outputs": [
    {
     "data": {
      "text/html": [
       "<div>\n",
       "<style scoped>\n",
       "    .dataframe tbody tr th:only-of-type {\n",
       "        vertical-align: middle;\n",
       "    }\n",
       "\n",
       "    .dataframe tbody tr th {\n",
       "        vertical-align: top;\n",
       "    }\n",
       "\n",
       "    .dataframe thead th {\n",
       "        text-align: right;\n",
       "    }\n",
       "</style>\n",
       "<table border=\"1\" class=\"dataframe\">\n",
       "  <thead>\n",
       "    <tr style=\"text-align: right;\">\n",
       "      <th></th>\n",
       "      <th>path</th>\n",
       "      <th>DR</th>\n",
       "    </tr>\n",
       "  </thead>\n",
       "  <tbody>\n",
       "    <tr>\n",
       "      <th>0</th>\n",
       "      <td>IDRiD_002</td>\n",
       "      <td>1</td>\n",
       "    </tr>\n",
       "    <tr>\n",
       "      <th>1</th>\n",
       "      <td>IDRiD_004</td>\n",
       "      <td>1</td>\n",
       "    </tr>\n",
       "    <tr>\n",
       "      <th>2</th>\n",
       "      <td>IDRiD_005</td>\n",
       "      <td>1</td>\n",
       "    </tr>\n",
       "    <tr>\n",
       "      <th>3</th>\n",
       "      <td>IDRiD_006</td>\n",
       "      <td>1</td>\n",
       "    </tr>\n",
       "    <tr>\n",
       "      <th>4</th>\n",
       "      <td>IDRiD_007</td>\n",
       "      <td>1</td>\n",
       "    </tr>\n",
       "    <tr>\n",
       "      <th>...</th>\n",
       "      <td>...</td>\n",
       "      <td>...</td>\n",
       "    </tr>\n",
       "    <tr>\n",
       "      <th>94</th>\n",
       "      <td>IDRiD_099</td>\n",
       "      <td>0</td>\n",
       "    </tr>\n",
       "    <tr>\n",
       "      <th>95</th>\n",
       "      <td>IDRiD_100</td>\n",
       "      <td>1</td>\n",
       "    </tr>\n",
       "    <tr>\n",
       "      <th>96</th>\n",
       "      <td>IDRiD_101</td>\n",
       "      <td>1</td>\n",
       "    </tr>\n",
       "    <tr>\n",
       "      <th>97</th>\n",
       "      <td>IDRiD_102</td>\n",
       "      <td>1</td>\n",
       "    </tr>\n",
       "    <tr>\n",
       "      <th>98</th>\n",
       "      <td>IDRiD_103</td>\n",
       "      <td>0</td>\n",
       "    </tr>\n",
       "  </tbody>\n",
       "</table>\n",
       "<p>99 rows × 2 columns</p>\n",
       "</div>"
      ],
      "text/plain": [
       "         path  DR\n",
       "0   IDRiD_002   1\n",
       "1   IDRiD_004   1\n",
       "2   IDRiD_005   1\n",
       "3   IDRiD_006   1\n",
       "4   IDRiD_007   1\n",
       "..        ...  ..\n",
       "94  IDRiD_099   0\n",
       "95  IDRiD_100   1\n",
       "96  IDRiD_101   1\n",
       "97  IDRiD_102   1\n",
       "98  IDRiD_103   0\n",
       "\n",
       "[99 rows x 2 columns]"
      ]
     },
     "execution_count": 24,
     "metadata": {},
     "output_type": "execute_result"
    }
   ],
   "source": [
    "t_pf"
   ]
  },
  {
   "cell_type": "code",
   "execution_count": 25,
   "id": "54ab6694",
   "metadata": {
    "id": "54ab6694"
   },
   "outputs": [],
   "source": [
    "os.chdir('C:/Users/akhil')"
   ]
  },
  {
   "cell_type": "code",
   "execution_count": 26,
   "id": "62ad586e",
   "metadata": {
    "id": "62ad586e"
   },
   "outputs": [],
   "source": [
    "t_df.to_csv('DR_training.csv')"
   ]
  },
  {
   "cell_type": "code",
   "execution_count": 27,
   "id": "5e2aeacb",
   "metadata": {
    "id": "5e2aeacb"
   },
   "outputs": [],
   "source": [
    "t_pf.to_csv('DR_testing.csv')"
   ]
  },
  {
   "cell_type": "code",
   "execution_count": 28,
   "id": "a78dd497",
   "metadata": {
    "id": "a78dd497"
   },
   "outputs": [],
   "source": [
    "df = pd.read_csv('DR_training.csv')\n",
    "pf = pd.read_csv('DR_testing.csv')"
   ]
  },
  {
   "cell_type": "code",
   "execution_count": 29,
   "id": "195a3459",
   "metadata": {
    "id": "195a3459"
   },
   "outputs": [],
   "source": [
    "df = df.drop('Unnamed: 0', axis = 1)\n",
    "pf = pf.drop('Unnamed: 0', axis = 1)"
   ]
  },
  {
   "cell_type": "code",
   "execution_count": 30,
   "id": "1bcf015e",
   "metadata": {
    "id": "1bcf015e"
   },
   "outputs": [
    {
     "name": "stdout",
     "output_type": "stream",
     "text": [
      "(398, 2)\n",
      "(99, 2)\n"
     ]
    }
   ],
   "source": [
    "print(df.shape)\n",
    "print(pf.shape)"
   ]
  },
  {
   "cell_type": "code",
   "execution_count": 31,
   "id": "df6a531d",
   "metadata": {
    "id": "df6a531d"
   },
   "outputs": [],
   "source": [
    "def train(x):\n",
    "    x = r'C:/Users/akhil/DR/training/' + x+'.jpg'\n",
    "    return x"
   ]
  },
  {
   "cell_type": "code",
   "execution_count": 32,
   "id": "06e168a5",
   "metadata": {
    "id": "06e168a5"
   },
   "outputs": [],
   "source": [
    "df['path'] = df['path'].apply(train)"
   ]
  },
  {
   "cell_type": "code",
   "execution_count": 33,
   "id": "bf2f4105",
   "metadata": {
    "id": "bf2f4105"
   },
   "outputs": [],
   "source": [
    "def test(x):\n",
    "    x = r'C:/Users/akhil/DR/testing/' + x+'.jpg'\n",
    "    return x"
   ]
  },
  {
   "cell_type": "code",
   "execution_count": 34,
   "id": "a77b99e9",
   "metadata": {
    "id": "a77b99e9"
   },
   "outputs": [
    {
     "data": {
      "text/plain": [
       "Index(['path', 'DR'], dtype='object')"
      ]
     },
     "execution_count": 34,
     "metadata": {},
     "output_type": "execute_result"
    }
   ],
   "source": [
    "df.columns"
   ]
  },
  {
   "cell_type": "code",
   "execution_count": 35,
   "id": "12ae68b2",
   "metadata": {
    "id": "12ae68b2"
   },
   "outputs": [],
   "source": [
    "pf['path'] = pf['path'].apply(test)"
   ]
  },
  {
   "cell_type": "code",
   "execution_count": 36,
   "id": "7b0963fc",
   "metadata": {
    "id": "7b0963fc"
   },
   "outputs": [],
   "source": [
    "def str_r(x):\n",
    "    x = str(x)\n",
    "    return x"
   ]
  },
  {
   "cell_type": "code",
   "execution_count": 37,
   "id": "5af91b6e",
   "metadata": {
    "id": "5af91b6e"
   },
   "outputs": [],
   "source": [
    "df['DR'] = df['DR'].apply(str_r)\n",
    "pf['DR'] = pf['DR'].apply(str_r)"
   ]
  },
  {
   "cell_type": "code",
   "execution_count": 38,
   "id": "7337682a",
   "metadata": {
    "id": "7337682a"
   },
   "outputs": [
    {
     "data": {
      "text/plain": [
       "'C:/Users/akhil/DR/training/IDRiD_001.jpg'"
      ]
     },
     "execution_count": 38,
     "metadata": {},
     "output_type": "execute_result"
    }
   ],
   "source": [
    "df['path'][0]"
   ]
  },
  {
   "cell_type": "code",
   "execution_count": 39,
   "id": "321bbd7d",
   "metadata": {
    "id": "321bbd7d"
   },
   "outputs": [
    {
     "data": {
      "text/plain": [
       "'C:/Users/akhil/DR/testing/IDRiD_002.jpg'"
      ]
     },
     "execution_count": 39,
     "metadata": {},
     "output_type": "execute_result"
    }
   ],
   "source": [
    "pf['path'][0]"
   ]
  },
  {
   "cell_type": "code",
   "execution_count": 40,
   "id": "135f39c3",
   "metadata": {
    "id": "135f39c3"
   },
   "outputs": [],
   "source": [
    "#generating images using image generator\n",
    "BATCH_SIZE = 8\n",
    "EPOCHS = 5\n",
    "WARMUP_EPOCHS = 2\n",
    "LEARNING_RATE = 1e-4\n",
    "WARMUP_LEARNING_RATE = 1e-3\n",
    "HEIGHT = 224\n",
    "WIDTH = 224\n",
    "CANAL = 3\n",
    "N_CLASSES = df['DR'].nunique()\n",
    "ES_PATIENCE = 5\n",
    "RLROP_PATIENCE = 3\n",
    "DECAY_DROP = 0.5\n",
    "def img_generator(train,test):\n",
    "    train_datagen=ImageDataGenerator(validation_split=0.2)\n",
    "    \n",
    "    train_generator=train_datagen.flow_from_dataframe(dataframe=df,\n",
    "                                                      \n",
    "                                                      x_col=\"path\",\n",
    "                                                      y_col=\"DR\",\n",
    "                                                      batch_size=BATCH_SIZE,\n",
    "                                                      class_mode=\"binary\",\n",
    "                                                      target_size=(HEIGHT, WIDTH),\n",
    "                                                      subset='training')\n",
    "    \n",
    "    valid_generator=train_datagen.flow_from_dataframe(dataframe=df,\n",
    "                                                     \n",
    "                                                      x_col=\"path\",\n",
    "                                                      y_col=\"DR\",\n",
    "                                                      batch_size=BATCH_SIZE,\n",
    "                                                      class_mode=\"binary\",    \n",
    "                                                      target_size=(HEIGHT, WIDTH),\n",
    "                                                      subset='validation')\n",
    "    \n",
    "    test_datagen = ImageDataGenerator()\n",
    "    test_generator = test_datagen.flow_from_dataframe(dataframe=pf,\n",
    "                                                      x_col=\"path\",\n",
    "                                                      target_size=(HEIGHT, WIDTH),\n",
    "                                                      batch_size=1,\n",
    "                                                      shuffle=False,\n",
    "                                                      class_mode=None)\n",
    "    \n",
    "    return train_generator,valid_generator,test_generator"
   ]
  },
  {
   "cell_type": "code",
   "execution_count": 41,
   "id": "80fc1fc8",
   "metadata": {
    "id": "80fc1fc8"
   },
   "outputs": [
    {
     "name": "stdout",
     "output_type": "stream",
     "text": [
      "Found 319 validated image filenames belonging to 2 classes.\n",
      "Found 79 validated image filenames belonging to 2 classes.\n",
      "Found 99 validated image filenames.\n"
     ]
    }
   ],
   "source": [
    "train_generator,valid_generator,test_generator = img_generator(df,pf)"
   ]
  },
  {
   "cell_type": "code",
   "execution_count": 42,
   "id": "598cd41d",
   "metadata": {
    "id": "598cd41d"
   },
   "outputs": [
    {
     "data": {
      "text/plain": [
       "(99, 2)"
      ]
     },
     "execution_count": 42,
     "metadata": {},
     "output_type": "execute_result"
    }
   ],
   "source": [
    "pf.shape"
   ]
  },
  {
   "cell_type": "code",
   "execution_count": 43,
   "id": "fe43d430",
   "metadata": {
    "id": "fe43d430"
   },
   "outputs": [
    {
     "name": "stdout",
     "output_type": "stream",
     "text": [
      "Model: \"sequential\"\n",
      "_________________________________________________________________\n",
      " Layer (type)                Output Shape              Param #   \n",
      "=================================================================\n",
      " resnet50 (Functional)       (None, 2048)              23587712  \n",
      "                                                                 \n",
      " flatten (Flatten)           (None, 2048)              0         \n",
      "                                                                 \n",
      " dense (Dense)               (None, 512)               1049088   \n",
      "                                                                 \n",
      " dense_1 (Dense)             (None, 1)                 513       \n",
      "                                                                 \n",
      "=================================================================\n",
      "Total params: 24,637,313\n",
      "Trainable params: 24,584,193\n",
      "Non-trainable params: 53,120\n",
      "_________________________________________________________________\n"
     ]
    }
   ],
   "source": [
    "resnet_model = Sequential()\n",
    "pretrained_model= kf.keras.applications.ResNet50(include_top=False,\n",
    "                   input_shape=(224,224,3),\n",
    "                   pooling='max',classes=2,\n",
    "                   weights='imagenet')\n",
    "resnet_model.add(pretrained_model)\n",
    "resnet_model.add(Flatten())\n",
    "resnet_model.add(Dense(512, activation='relu'))\n",
    "resnet_model.add(Dense(1, activation='sigmoid'))\n",
    "resnet_model.compile(loss=keras.losses.binary_crossentropy,\n",
    "              optimizer=kf.optimizers.Adam(),\n",
    "              metrics=['accuracy'])\n",
    "resnet_model.summary()"
   ]
  },
  {
   "cell_type": "code",
   "execution_count": 44,
   "id": "f12f244a",
   "metadata": {
    "id": "f12f244a"
   },
   "outputs": [
    {
     "name": "stdout",
     "output_type": "stream",
     "text": [
      "Epoch 1/20\n",
      "40/40 [==============================] - 83s 2s/step - loss: 7.1640 - accuracy: 0.5956 - val_loss: 0.0000e+00 - val_accuracy: 1.0000\n",
      "Epoch 2/20\n",
      "40/40 [==============================] - 66s 2s/step - loss: 2.3245 - accuracy: 0.6019 - val_loss: 0.0000e+00 - val_accuracy: 1.0000\n",
      "Epoch 3/20\n",
      "40/40 [==============================] - 67s 2s/step - loss: 1.0532 - accuracy: 0.6677 - val_loss: 0.0000e+00 - val_accuracy: 1.0000\n",
      "Epoch 4/20\n",
      "40/40 [==============================] - 69s 2s/step - loss: 0.8898 - accuracy: 0.6646 - val_loss: 1027.3679 - val_accuracy: 0.0000e+00\n",
      "Epoch 5/20\n",
      "40/40 [==============================] - 68s 2s/step - loss: 0.8940 - accuracy: 0.6928 - val_loss: 95.0753 - val_accuracy: 0.0000e+00\n",
      "Epoch 6/20\n",
      "40/40 [==============================] - 70s 2s/step - loss: 0.7131 - accuracy: 0.6928 - val_loss: 1.2045 - val_accuracy: 0.5696\n",
      "Epoch 7/20\n",
      "40/40 [==============================] - 72s 2s/step - loss: 0.6562 - accuracy: 0.7147 - val_loss: 0.2341 - val_accuracy: 0.9620\n",
      "Epoch 8/20\n",
      "40/40 [==============================] - 69s 2s/step - loss: 0.6674 - accuracy: 0.7116 - val_loss: 0.1999 - val_accuracy: 0.8608\n",
      "Epoch 9/20\n",
      "40/40 [==============================] - 69s 2s/step - loss: 0.6337 - accuracy: 0.7085 - val_loss: 0.5384 - val_accuracy: 0.8481\n",
      "Epoch 10/20\n",
      "40/40 [==============================] - 69s 2s/step - loss: 0.6781 - accuracy: 0.7210 - val_loss: 0.1714 - val_accuracy: 0.8734\n",
      "Epoch 11/20\n",
      "40/40 [==============================] - 73s 2s/step - loss: 0.6037 - accuracy: 0.7524 - val_loss: 0.3174 - val_accuracy: 0.8734\n",
      "Epoch 12/20\n",
      "40/40 [==============================] - 70s 2s/step - loss: 0.5455 - accuracy: 0.7398 - val_loss: 0.3154 - val_accuracy: 0.7975\n",
      "Epoch 13/20\n",
      "40/40 [==============================] - 68s 2s/step - loss: 0.4980 - accuracy: 0.7743 - val_loss: 0.4754 - val_accuracy: 0.7468\n",
      "Epoch 14/20\n",
      "40/40 [==============================] - 68s 2s/step - loss: 0.5190 - accuracy: 0.7649 - val_loss: 0.4075 - val_accuracy: 0.7848\n",
      "Epoch 15/20\n",
      "40/40 [==============================] - 68s 2s/step - loss: 0.4698 - accuracy: 0.7837 - val_loss: 0.5623 - val_accuracy: 0.7722\n",
      "Epoch 16/20\n",
      "40/40 [==============================] - 68s 2s/step - loss: 0.4348 - accuracy: 0.7931 - val_loss: 2.7864 - val_accuracy: 0.6456\n",
      "Epoch 17/20\n",
      "40/40 [==============================] - 68s 2s/step - loss: 0.6727 - accuracy: 0.7429 - val_loss: 0.7702 - val_accuracy: 0.7848\n",
      "Epoch 18/20\n",
      "40/40 [==============================] - 68s 2s/step - loss: 0.4729 - accuracy: 0.7806 - val_loss: 1.7246 - val_accuracy: 0.6076\n",
      "Epoch 19/20\n",
      "40/40 [==============================] - 71s 2s/step - loss: 0.4604 - accuracy: 0.7931 - val_loss: 0.7651 - val_accuracy: 0.6835\n",
      "Epoch 20/20\n",
      "40/40 [==============================] - 77s 2s/step - loss: 0.4763 - accuracy: 0.7962 - val_loss: 0.2905 - val_accuracy: 0.8987\n"
     ]
    }
   ],
   "source": [
    "resnet_model.fit(train_generator, batch_size = BATCH_SIZE, epochs = 20, verbose = 1, validation_data = valid_generator)\n",
    "resnet_model.save('resnet.h5')"
   ]
  },
  {
   "cell_type": "code",
   "execution_count": 46,
   "id": "efb389c3",
   "metadata": {
    "id": "efb389c3"
   },
   "outputs": [
    {
     "name": "stdout",
     "output_type": "stream",
     "text": [
      "ResNet50 Accuracy score : 0.697\n"
     ]
    },
    {
     "data": {
      "image/png": "[encoded data removed]",
      "text/plain": [
       "<Figure size 1600x700 with 2 Axes>"
      ]
     },
     "metadata": {},
     "output_type": "display_data"
    }
   ],
   "source": [
    "# Load the saved ResNet model\n",
    "resnet_model = load_model('resnet.h5')\n",
    "train_preds1 =resnet_model.predict_generator(test_generator)#predicting test data using ResNet50\n",
    "y_pred1 =list()\n",
    "for i in train_preds1:\n",
    "    y_pred1.append(round(i[0]))\n",
    "p=confusion_matrix(pf['DR'].astype(\"int\"),y_pred1)\n",
    "plt.figure(figsize=(16, 7))\n",
    "sns.heatmap(p,annot=True)#ploting confusion matrix\n",
    "print(\"ResNet50 Accuracy score : %.3f\" % accuracy_score(pf['DR'].astype('int'),y_pred1))#finding accuracy'''"
   ]
  },
  {
   "cell_type": "code",
   "execution_count": 47,
   "id": "cd13130d",
   "metadata": {
    "id": "cd13130d"
   },
   "outputs": [],
   "source": [
    "#inceptionV3\n",
    "base_model = InceptionV3(weights='imagenet', \n",
    "                                include_top=False, \n",
    "                                input_shape=(224, 224,3))\n",
    "base_model.trainable = False\n",
    "add_model = Sequential()\n",
    "add_model.add(base_model)\n",
    "add_model.add(Flatten())\n",
    "add_model.add(Dense(1024, \n",
    "                    activation='relu'))\n",
    "add_model.add(Dropout(0.2))\n",
    "add_model.add(Dense(1, \n",
    "                    activation='sigmoid'))\n",
    "model = add_model\n",
    "model.compile(loss='binary_crossentropy', \n",
    "              optimizer=tf.optimizers.Adam(),\n",
    "              metrics=['accuracy'])"
   ]
  },
  {
   "cell_type": "code",
   "execution_count": 48,
   "id": "448583b6",
   "metadata": {
    "id": "448583b6"
   },
   "outputs": [
    {
     "name": "stdout",
     "output_type": "stream",
     "text": [
      "Model: \"sequential_1\"\n",
      "_________________________________________________________________\n",
      " Layer (type)                Output Shape              Param #   \n",
      "=================================================================\n",
      " inception_v3 (Functional)   (None, 5, 5, 2048)        21802784  \n",
      "                                                                 \n",
      " flatten_1 (Flatten)         (None, 51200)             0         \n",
      "                                                                 \n",
      " dense_2 (Dense)             (None, 1024)              52429824  \n",
      "                                                                 \n",
      " dropout (Dropout)           (None, 1024)              0         \n",
      "                                                                 \n",
      " dense_3 (Dense)             (None, 1)                 1025      \n",
      "                                                                 \n",
      "=================================================================\n",
      "Total params: 74,233,633\n",
      "Trainable params: 52,430,849\n",
      "Non-trainable params: 21,802,784\n",
      "_________________________________________________________________\n"
     ]
    }
   ],
   "source": [
    "model.summary()"
   ]
  },
  {
   "cell_type": "code",
   "execution_count": 49,
   "id": "964b20f4",
   "metadata": {
    "id": "964b20f4"
   },
   "outputs": [
    {
     "name": "stdout",
     "output_type": "stream",
     "text": [
      "Epoch 1/20\n",
      "40/40 [==============================] - 30s 661ms/step - loss: 110.8133 - accuracy: 0.5831 - val_loss: 0.8227 - val_accuracy: 0.9873\n",
      "Epoch 2/20\n",
      "40/40 [==============================] - 24s 604ms/step - loss: 48.1159 - accuracy: 0.6646 - val_loss: 10.7428 - val_accuracy: 0.8734\n",
      "Epoch 3/20\n",
      "40/40 [==============================] - 24s 594ms/step - loss: 42.0281 - accuracy: 0.7210 - val_loss: 3.1731 - val_accuracy: 0.9494\n",
      "Epoch 4/20\n",
      "40/40 [==============================] - 24s 606ms/step - loss: 17.0861 - accuracy: 0.7555 - val_loss: 20.3261 - val_accuracy: 0.5949\n",
      "Epoch 5/20\n",
      "40/40 [==============================] - 23s 582ms/step - loss: 9.9455 - accuracy: 0.7555 - val_loss: 16.0700 - val_accuracy: 0.4304\n",
      "Epoch 6/20\n",
      "40/40 [==============================] - 23s 584ms/step - loss: 10.2469 - accuracy: 0.7116 - val_loss: 12.8509 - val_accuracy: 0.3671\n",
      "Epoch 7/20\n",
      "40/40 [==============================] - 23s 583ms/step - loss: 2.9072 - accuracy: 0.8088 - val_loss: 0.3597 - val_accuracy: 0.9620\n",
      "Epoch 8/20\n",
      "40/40 [==============================] - 23s 586ms/step - loss: 1.6042 - accuracy: 0.7994 - val_loss: 1.0037 - val_accuracy: 0.8608\n",
      "Epoch 9/20\n",
      "40/40 [==============================] - 25s 616ms/step - loss: 0.4342 - accuracy: 0.8683 - val_loss: 0.4339 - val_accuracy: 0.8734\n",
      "Epoch 10/20\n",
      "40/40 [==============================] - 31s 773ms/step - loss: 0.3676 - accuracy: 0.8652 - val_loss: 0.4970 - val_accuracy: 0.7975\n",
      "Epoch 11/20\n",
      "40/40 [==============================] - 26s 643ms/step - loss: 0.2696 - accuracy: 0.8966 - val_loss: 1.2489 - val_accuracy: 0.6582\n",
      "Epoch 12/20\n",
      "40/40 [==============================] - 25s 616ms/step - loss: 0.2604 - accuracy: 0.9091 - val_loss: 0.3655 - val_accuracy: 0.8861\n",
      "Epoch 13/20\n",
      "40/40 [==============================] - 25s 626ms/step - loss: 0.2225 - accuracy: 0.9028 - val_loss: 0.2539 - val_accuracy: 0.9114\n",
      "Epoch 14/20\n",
      "40/40 [==============================] - 25s 614ms/step - loss: 0.2108 - accuracy: 0.8934 - val_loss: 0.3894 - val_accuracy: 0.8987\n",
      "Epoch 15/20\n",
      "40/40 [==============================] - 25s 618ms/step - loss: 0.2063 - accuracy: 0.9122 - val_loss: 0.3120 - val_accuracy: 0.8734\n",
      "Epoch 16/20\n",
      "40/40 [==============================] - 27s 679ms/step - loss: 0.1895 - accuracy: 0.9216 - val_loss: 0.3786 - val_accuracy: 0.8734\n",
      "Epoch 17/20\n",
      "40/40 [==============================] - 37s 902ms/step - loss: 0.1350 - accuracy: 0.9498 - val_loss: 0.2708 - val_accuracy: 0.9367\n",
      "Epoch 18/20\n",
      "40/40 [==============================] - 24s 593ms/step - loss: 0.1421 - accuracy: 0.9373 - val_loss: 0.2459 - val_accuracy: 0.9494\n",
      "Epoch 19/20\n",
      "40/40 [==============================] - 24s 597ms/step - loss: 0.1212 - accuracy: 0.9436 - val_loss: 0.2520 - val_accuracy: 0.9114\n",
      "Epoch 20/20\n",
      "40/40 [==============================] - 24s 593ms/step - loss: 0.2216 - accuracy: 0.9185 - val_loss: 0.8934 - val_accuracy: 0.7089\n"
     ]
    }
   ],
   "source": [
    "model.fit(train_generator, batch_size = BATCH_SIZE, epochs = 20, verbose = 1, validation_data = valid_generator)\n",
    "model.save('Inception.h5')"
   ]
  },
  {
   "cell_type": "code",
   "execution_count": 50,
   "id": "801fdac6",
   "metadata": {
    "id": "801fdac6"
   },
   "outputs": [
    {
     "name": "stdout",
     "output_type": "stream",
     "text": [
      "ResNet50 Accuracy score : 0.626\n"
     ]
    },
    {
     "data": {
      "image/png": "[encoded data removed]",
      "text/plain": [
       "<Figure size 1600x700 with 2 Axes>"
      ]
     },
     "metadata": {},
     "output_type": "display_data"
    }
   ],
   "source": [
    "model = load_model('Inception.h5')\n",
    "train_preds1 =model.predict_generator(test_generator)#predicting test data using ResNet50\n",
    "y_pred1 =list()\n",
    "for i in train_preds1:\n",
    "    y_pred1.append(round(i[0]))\n",
    "from sklearn.metrics import confusion_matrix, cohen_kappa_score,accuracy_score\n",
    "p=confusion_matrix(pf['DR'].astype(\"int\"),y_pred1)\n",
    "import seaborn as sns\n",
    "plt.figure(figsize=(16, 7))\n",
    "sns.heatmap(p,annot=True)#ploting confusion matrix\n",
    "print(\"Inception Accuracy score : %.3f\" % accuracy_score(pf['DR'].astype('int'),y_pred1))#finding accuracy'''"
   ]
  }
 ],
 "metadata": {
  "colab": {
   "provenance": []
  },
  "kernelspec": {
   "display_name": "Python 3 (ipykernel)",
   "language": "python",
   "name": "python3"
  },
  "language_info": {
   "codemirror_mode": {
    "name": "ipython",
    "version": 3
   },
   "file_extension": ".py",
   "mimetype": "text/x-python",
   "name": "python",
   "nbconvert_exporter": "python",
   "pygments_lexer": "ipython3",
   "version": "3.10.9"
  }
 },
 "nbformat": 4,
 "nbformat_minor": 5
}
